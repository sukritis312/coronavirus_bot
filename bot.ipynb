{
  "nbformat": 4,
  "nbformat_minor": 0,
  "metadata": {
    "colab": {
      "provenance": []
    },
    "kernelspec": {
      "name": "python3",
      "display_name": "Python 3"
    },
    "language_info": {
      "name": "python"
    }
  },
  "cells": [
    {
      "cell_type": "code",
      "execution_count": null,
      "metadata": {
        "id": "LYIl1tlCWCTH"
      },
      "outputs": [],
      "source": [
        "!pip install nltk\n",
        "!pip install newspaper3k"
      ]
    },
    {
      "cell_type": "code",
      "source": [
        "#importing the packages\n",
        "import nltk\n",
        "import string\n",
        "import numpy as np\n",
        "from newspaper import Article\n",
        "import random\n",
        "import warnings\n",
        "from sklearn.feature_extraction.text import TfidfVectorizer\n",
        "from sklearn.metrics.pairwise import cosine_similarity\n",
        "#ignore warnings \n",
        "warnings.filterwarnings('ignore')\n",
        "#download packages\n",
        "nltk.download('punkt')\n",
        "nltk.download('wordnet')\n",
        "nltk.download('omw')\n"
      ],
      "metadata": {
        "id": "ZGZ6UaV6WgYK"
      },
      "execution_count": null,
      "outputs": []
    },
    {
      "cell_type": "code",
      "source": [
        "#get article\n",
        "article=Article('https://www.britannica.com/science/COVID-19')\n",
        "article.download()\n",
        "article.parse()\n",
        "article.nlp()\n",
        "corpus= article.text\n",
        "print(corpus)"
      ],
      "metadata": {
        "id": "CNQ0fFmU8ArZ"
      },
      "execution_count": null,
      "outputs": []
    },
    {
      "cell_type": "code",
      "source": [
        "#tokenize\n",
        "text=corpus\n",
        "sent_tokens=nltk.sent_tokenize(text)"
      ],
      "metadata": {
        "id": "sVoyuRso7vBd"
      },
      "execution_count": null,
      "outputs": []
    },
    {
      "cell_type": "code",
      "source": [
        "#creating a dictionary to remove punctuation\n",
        "remove_punct_dict=dict( (ord(punct),None) for punct in string.punctuation)\n",
        "print(string.punctuation)\n",
        "print(remove_punct_dict)"
      ],
      "metadata": {
        "id": "Da-Ivdfs6Wb-"
      },
      "execution_count": null,
      "outputs": []
    },
    {
      "cell_type": "code",
      "source": [
        "# create a function to return lower case words\n",
        "def lower(text):\n",
        "  return nltk.word_tokenize(text.lower().translate(remove_punct_dict))\n",
        "print(lower(text))"
      ],
      "metadata": {
        "id": "Fq4O1SmF7Pzs"
      },
      "execution_count": null,
      "outputs": []
    },
    {
      "cell_type": "code",
      "source": [
        "def response(user_response):\n",
        "  user_response=user_response.lower()\n",
        "  bot_response=''\n",
        "  sent_tokens.append(user_response)\n",
        "  tfidvec=TfidfVectorizer(tokenizer=lower,stop_words='english')\n",
        "  tfidf=tfidvec.fit_transform(sent_tokens)\n",
        "  val=cosine_similarity(tfidf[-1],tfidf)\n",
        "  idx=val.argsort()[0][-2]\n",
        "  flat=val.flatten()\n",
        "  flat.sort()\n",
        "  score=flat[-2]\n",
        "  if score==0:\n",
        "    bot_response=bot_response+'Sorry,I dont understand'\n",
        "  else:\n",
        "    bot_response=bot_response+sent_tokens[idx]\n",
        "  sent_tokens.remove(user_response)\n",
        "  return bot_response\n"
      ],
      "metadata": {
        "id": "rKGSXVU97ksD"
      },
      "execution_count": null,
      "outputs": []
    },
    {
      "cell_type": "code",
      "source": [
        "\n",
        "greeting_input=['hi','hello','hey']\n",
        "greeting_response=['hello','hi','hey there','hey,nice to meet you']\n",
        "def greeting(sentence):\n",
        "  for word in sentence.split():\n",
        "    if word.lower() in greeting_input:\n",
        "      return random.choice(greeting_response)\n",
        "flag=True\n",
        "print('Hello! This is Lisa, I can answer your queries related to COVID-19, type bye to exit')\n",
        "while(flag==True):\n",
        "  user_response=input('Me:')\n",
        "  if (user_response!= 'bye'):\n",
        "    if(user_response=='thanks' or user_response=='thanks'):\n",
        "      flag=False\n",
        "      print('Lisa: anytime ')\n",
        "    else:\n",
        "      if(greeting(user_response)!=None):\n",
        "        print(\"Lisa:\"+greeting(user_response))\n",
        "      else:\n",
        "        print('Lisa:'+ response(user_response))\n",
        "  else:\n",
        "    flag=False\n",
        "    print('Lisa: see you soon.')"
      ],
      "metadata": {
        "id": "FCaHjLnXmxDJ"
      },
      "execution_count": null,
      "outputs": []
    }
  ]
}